{
 "cells": [
  {
   "cell_type": "markdown",
   "id": "ae1f16f2-288f-4009-8d44-79bc8ffe72b2",
   "metadata": {
    "pycharm": {
     "name": "#%% md\n"
    }
   },
   "source": [
    "## <font color='OrangeRed'>Imports</font>"
   ]
  },
  {
   "cell_type": "code",
   "execution_count": null,
   "id": "84afbec1-3ca5-44fb-89ff-760cf90d3d3f",
   "metadata": {
    "pycharm": {
     "name": "#%%\n"
    }
   },
   "outputs": [],
   "source": [
    "## Display\n",
    "from rich import print\n",
    "from rich.pretty import pprint\n",
    "\n",
    "# Utilities\n",
    "from pathlib import Path\n",
    "from datetime import datetime as dt\n",
    "\n",
    "# Data analysis\n",
    "import pandas as pd\n",
    "import numpy as np\n",
    "import math\n",
    "import numpy as np\n",
    "import matplotlib\n",
    "from collections import Counter\n",
    "\n",
    "# Data export\n",
    "from openpyxl import Workbook\n",
    "from openpyxl.utils.dataframe import dataframe_to_rows"
   ]
  },
  {
   "cell_type": "markdown",
   "id": "ff6f1419-f81f-43f2-aa38-e4842cbd12e0",
   "metadata": {
    "pycharm": {
     "name": "#%% md\n"
    }
   },
   "source": [
    "## <font color='OrangeRed'>Options</font>"
   ]
  },
  {
   "cell_type": "code",
   "execution_count": null,
   "id": "e385f695-e613-4ca8-ab67-7cf8742a3f40",
   "metadata": {
    "pycharm": {
     "name": "#%%\n"
    }
   },
   "outputs": [],
   "source": [
    "pd.options.display.max_columns = None\n",
    "pd.options.display.max_rows = None"
   ]
  },
  {
   "cell_type": "markdown",
   "id": "6c2f1759-738b-46cb-87a0-f2259a6b3959",
   "metadata": {
    "pycharm": {
     "name": "#%% md\n"
    }
   },
   "source": [
    "## <font color='OrangeRed'>Import data</font>"
   ]
  },
  {
   "cell_type": "code",
   "execution_count": null,
   "id": "4de352d1-c63a-47aa-826e-6b2fae215873",
   "metadata": {
    "pycharm": {
     "name": "#%%\n"
    }
   },
   "outputs": [],
   "source": []
  },
  {
   "cell_type": "markdown",
   "id": "797bbe50-284a-4aed-b3ad-37dc0f97f844",
   "metadata": {
    "pycharm": {
     "name": "#%% md\n"
    }
   },
   "source": [
    "## <font color='OrangeRed'>Analyze data</font>"
   ]
  },
  {
   "cell_type": "code",
   "execution_count": null,
   "id": "ca011604-6fac-4be0-ba09-ca5bf63b1c3f",
   "metadata": {
    "pycharm": {
     "name": "#%%\n"
    }
   },
   "outputs": [],
   "source": []
  },
  {
   "cell_type": "markdown",
   "id": "76b6bc7e-7f15-4206-b7da-b3f65786d140",
   "metadata": {
    "pycharm": {
     "name": "#%% md\n"
    }
   },
   "source": [
    "## <font color='OrangeRed'>Export data</font>"
   ]
  },
  {
   "cell_type": "code",
   "execution_count": null,
   "id": "71250052-f425-46ea-a9a8-2fb8c1cb4d17",
   "metadata": {
    "pycharm": {
     "name": "#%%\n"
    }
   },
   "outputs": [],
   "source": []
  }
 ],
 "metadata": {
  "kernelspec": {
   "display_name": "Python 3 (ipykernel)",
   "language": "python",
   "name": "python3"
  },
  "language_info": {
   "codemirror_mode": {
    "name": "ipython",
    "version": 3
   },
   "file_extension": ".py",
   "mimetype": "text/x-python",
   "name": "python",
   "nbconvert_exporter": "python",
   "pygments_lexer": "ipython3",
   "version": "3.10.6"
  }
 },
 "nbformat": 4,
 "nbformat_minor": 5
}