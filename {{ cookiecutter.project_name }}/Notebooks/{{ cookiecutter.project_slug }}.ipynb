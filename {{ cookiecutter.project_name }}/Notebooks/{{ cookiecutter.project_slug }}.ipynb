{
 "cells": [
  {
   "cell_type": "markdown",
   "id": "ae1f16f2-288f-4009-8d44-79bc8ffe72b2",
   "metadata": {
    "pycharm": {
     "name": "#%% md\n"
    }
   },
   "source": [
    "## <font color='#FF883C'>Imports</font>"
   ]
  },
  {
   "cell_type": "code",
   "execution_count": null,
   "id": "84afbec1-3ca5-44fb-89ff-760cf90d3d3f",
   "metadata": {
    "pycharm": {
     "name": "#%%\n"
    }
   },
   "outputs": [],
   "source": [
    "## Display\n",
    "import itertools\n",
    "import math\n",
    "\n",
    "# Misc\n",
    "import os\n",
    "from collections import Counter, namedtuple\n",
    "from datetime import datetime as dt\n",
    "from datetime import time\n",
    "\n",
    "# Utilities\n",
    "from pathlib import Path\n",
    "\n",
    "import arrow\n",
    "import matplotlib\n",
    "import matplotlib.pyplot as plt\n",
    "import numpy as np\n",
    "\n",
    "# Data analysis\n",
    "import pandas as pd\n",
    "import plotly.express as px\n",
    "import plotly.graph_objects as go\n",
    "import requests\n",
    "from ics import Calendar, Event\n",
    "\n",
    "# ICS importing\n",
    "from ics_converter import OutlookCal\n",
    "\n",
    "# Data export\n",
    "from openpyxl import Workbook\n",
    "from openpyxl.utils.dataframe import dataframe_to_rows\n",
    "from rich import print\n",
    "from rich.pretty import pprint"
   ]
  },
  {
   "cell_type": "markdown",
   "id": "ff6f1419-f81f-43f2-aa38-e4842cbd12e0",
   "metadata": {
    "pycharm": {
     "name": "#%% md\n"
    }
   },
   "source": [
    "## <font color='#FF883C'>Options</font>"
   ]
  },
  {
   "cell_type": "markdown",
   "id": "8cdcfc4f-8971-48ee-a015-ee75829949a1",
   "metadata": {},
   "source": [
    "## <font color=\"#53565E\">Pandas and numerical options</font>"
   ]
  },
  {
   "cell_type": "code",
   "execution_count": null,
   "id": "e385f695-e613-4ca8-ab67-7cf8742a3f40",
   "metadata": {
    "pycharm": {
     "name": "#%%\n"
    }
   },
   "outputs": [],
   "source": [
    "# Set pandas DataFrame to max display\n",
    "pd.options.display.max_columns = None\n",
    "pd.options.display.max_rows = None\n",
    "\n",
    "# Set float numbers in DataFrames to 2 digits precision\n",
    "pd.options.display.float_format = \"{:,.2f}\".format\n",
    "\n",
    "# Show matplotlip plots in notebook\n",
    "%matplotlib inline\n",
    "\n",
    "# Set float output to 3 digits precision (general)\n",
    "%precision 3"
   ]
  },
  {
   "cell_type": "markdown",
   "id": "2cd0b457-2f53-4977-9abf-5d96d98b2d4c",
   "metadata": {},
   "source": [
    "## <font color=\"#53565E\">Set colors</font>"
   ]
  },
  {
   "cell_type": "code",
   "execution_count": null,
   "id": "e63137bd-e18c-4cf4-b1ed-34f37ee9ac11",
   "metadata": {},
   "outputs": [],
   "source": [
    "# QW Colors\n",
    "QW_BLUE_RGB = (52, 93, 157)\n",
    "QW_BLUE_HEX = \"#345D9D\"\n",
    "QW_GRAY_RGB = (151, 152, 154)\n",
    "QW_GRAY_HEX = \"#979899\"\n",
    "QW_ORANGE_RGB = (255, 131, 0)\n",
    "QW_ORANGE_HEX = \"#FF8300\"\n",
    "\n",
    "# TBL Colors\n",
    "TBL_DK_GRAY_HEX = \"#53565E\"\n",
    "TBL_LT_GRAY_HEX = \"#8A8A8D\"\n",
    "TBL_ORANGE_HEX = \"#FF883C\""
   ]
  },
  {
   "cell_type": "markdown",
   "id": "6c2f1759-738b-46cb-87a0-f2259a6b3959",
   "metadata": {
    "pycharm": {
     "name": "#%% md\n"
    }
   },
   "source": [
    "## <font color=\"#FF883C\">Import data</font>"
   ]
  },
  {
   "cell_type": "code",
   "execution_count": null,
   "id": "4de352d1-c63a-47aa-826e-6b2fae215873",
   "metadata": {
    "pycharm": {
     "name": "#%%\n"
    }
   },
   "outputs": [],
   "source": []
  },
  {
   "cell_type": "markdown",
   "id": "797bbe50-284a-4aed-b3ad-37dc0f97f844",
   "metadata": {
    "pycharm": {
     "name": "#%% md\n"
    }
   },
   "source": [
    "## <font color=\"#FF883C\">Analyze data</font>"
   ]
  },
  {
   "cell_type": "code",
   "execution_count": null,
   "id": "ca011604-6fac-4be0-ba09-ca5bf63b1c3f",
   "metadata": {
    "pycharm": {
     "name": "#%%\n"
    }
   },
   "outputs": [],
   "source": []
  },
  {
   "cell_type": "markdown",
   "id": "76b6bc7e-7f15-4206-b7da-b3f65786d140",
   "metadata": {
    "pycharm": {
     "name": "#%% md\n"
    }
   },
   "source": [
    "## <font color=\"#FF883C\">Export data</font>"
   ]
  },
  {
   "cell_type": "code",
   "execution_count": null,
   "id": "71250052-f425-46ea-a9a8-2fb8c1cb4d17",
   "metadata": {
    "pycharm": {
     "name": "#%%\n"
    }
   },
   "outputs": [],
   "source": []
  }
 ],
 "metadata": {
  "kernelspec": {
   "display_name": "Python 3 (ipykernel)",
   "language": "python",
   "name": "python3"
  },
  "language_info": {
   "codemirror_mode": {
    "name": "ipython",
    "version": 3
   },
   "file_extension": ".py",
   "mimetype": "text/x-python",
   "name": "python",
   "nbconvert_exporter": "python",
   "pygments_lexer": "ipython3",
   "version": "3.10.7"
  }
 },
 "nbformat": 4,
 "nbformat_minor": 5
}
